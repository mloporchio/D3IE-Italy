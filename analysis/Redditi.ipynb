{
 "cells": [
  {
   "cell_type": "code",
   "execution_count": 3,
   "metadata": {},
   "outputs": [],
   "source": [
    "import pandas as pd\n",
    "import numpy as np\n",
    "import matplotlib.pyplot as plt"
   ]
  },
  {
   "cell_type": "code",
   "execution_count": 4,
   "metadata": {},
   "outputs": [],
   "source": [
    "iregmap = {\n",
    "    1 : \"PIEMONTE\",\n",
    "    2 : \"VALLE_AOSTA\",\n",
    "    3 : \"LOMBARDIA\",\n",
    "    4 : \"TRENTINO\",\n",
    "    5 : \"VENETO\",\n",
    "    6 : \"FRIULI\",\n",
    "    7 : \"LIGURIA\",\n",
    "    8 : \"EMILIA_ROMAGNA\",\n",
    "    9 : \"TOSCANA\",\n",
    "    10 : \"UMBRIA\",\n",
    "    11 : \"MARCHE\",\n",
    "    12 : \"LAZIO\",\n",
    "    13 : \"ABRUZZO\",\n",
    "    14 : \"MOLISE\",\n",
    "    15 : \"CAMPANIA\",\n",
    "    16 : \"PUGLIA\",\n",
    "    17 : \"BASILICATA\",\n",
    "    18 : \"CALABRIA\",\n",
    "    19 : \"SICILIA\",\n",
    "    20 : \"SARDEGNA\"\n",
    "}\n",
    "def transform(x): return iregmap[x]"
   ]
  },
  {
   "cell_type": "code",
   "execution_count": 5,
   "metadata": {},
   "outputs": [
    {
     "data": {
      "text/html": [
       "<div>\n",
       "<style scoped>\n",
       "    .dataframe tbody tr th:only-of-type {\n",
       "        vertical-align: middle;\n",
       "    }\n",
       "\n",
       "    .dataframe tbody tr th {\n",
       "        vertical-align: top;\n",
       "    }\n",
       "\n",
       "    .dataframe thead th {\n",
       "        text-align: right;\n",
       "    }\n",
       "</style>\n",
       "<table border=\"1\" class=\"dataframe\">\n",
       "  <thead>\n",
       "    <tr style=\"text-align: right;\">\n",
       "      <th></th>\n",
       "      <th>NQUEST</th>\n",
       "      <th>ANNO</th>\n",
       "      <th>Y</th>\n",
       "      <th>Y1</th>\n",
       "      <th>IREG</th>\n",
       "    </tr>\n",
       "  </thead>\n",
       "  <tbody>\n",
       "    <tr>\n",
       "      <th>0</th>\n",
       "      <td>1</td>\n",
       "      <td>1977</td>\n",
       "      <td>NaN</td>\n",
       "      <td>1586.555594</td>\n",
       "      <td>PIEMONTE</td>\n",
       "    </tr>\n",
       "    <tr>\n",
       "      <th>1</th>\n",
       "      <td>2</td>\n",
       "      <td>1977</td>\n",
       "      <td>NaN</td>\n",
       "      <td>1305.086584</td>\n",
       "      <td>PIEMONTE</td>\n",
       "    </tr>\n",
       "    <tr>\n",
       "      <th>2</th>\n",
       "      <td>3</td>\n",
       "      <td>1977</td>\n",
       "      <td>NaN</td>\n",
       "      <td>4157.478038</td>\n",
       "      <td>PIEMONTE</td>\n",
       "    </tr>\n",
       "    <tr>\n",
       "      <th>3</th>\n",
       "      <td>4</td>\n",
       "      <td>1977</td>\n",
       "      <td>NaN</td>\n",
       "      <td>4131.655193</td>\n",
       "      <td>PIEMONTE</td>\n",
       "    </tr>\n",
       "    <tr>\n",
       "      <th>4</th>\n",
       "      <td>5</td>\n",
       "      <td>1977</td>\n",
       "      <td>NaN</td>\n",
       "      <td>4251.989650</td>\n",
       "      <td>PIEMONTE</td>\n",
       "    </tr>\n",
       "  </tbody>\n",
       "</table>\n",
       "</div>"
      ],
      "text/plain": [
       "   NQUEST  ANNO   Y           Y1      IREG\n",
       "0       1  1977 NaN  1586.555594  PIEMONTE\n",
       "1       2  1977 NaN  1305.086584  PIEMONTE\n",
       "2       3  1977 NaN  4157.478038  PIEMONTE\n",
       "3       4  1977 NaN  4131.655193  PIEMONTE\n",
       "4       5  1977 NaN  4251.989650  PIEMONTE"
      ]
     },
     "execution_count": 5,
     "metadata": {},
     "output_type": "execute_result"
    }
   ],
   "source": [
    "# Importiamo il data set.\n",
    "df = pd.read_csv('output.csv')\n",
    "df['IREG'] = df['IREG'].apply(transform)\n",
    "df.head()"
   ]
  },
  {
   "cell_type": "code",
   "execution_count": 6,
   "metadata": {},
   "outputs": [
    {
     "data": {
      "text/plain": [
       "array([1977, 1978, 1979, 1980, 1981, 1982, 1983, 1984, 1986, 1987, 1989,\n",
       "       1991, 1993, 1995, 1998, 2000, 2002, 2004, 2006, 2008, 2010, 2012,\n",
       "       2014, 2016])"
      ]
     },
     "execution_count": 6,
     "metadata": {},
     "output_type": "execute_result"
    }
   ],
   "source": [
    "# Questi sono tutti gli anni su cui si hanno informazioni.\n",
    "np.unique(df['ANNO'])"
   ]
  },
  {
   "cell_type": "markdown",
   "metadata": {},
   "source": [
    "---"
   ]
  },
  {
   "cell_type": "code",
   "execution_count": 7,
   "metadata": {},
   "outputs": [],
   "source": [
    "# Estraggo dai dati solo i record relativi agli anni che mi interessano.\n",
    "years = [1995, 1998, 2000, 2002, 2004, 2006, 2008, 2010, 2012, 2014, 2016]\n",
    "dfp = df[df.ANNO.isin(years)]"
   ]
  },
  {
   "cell_type": "code",
   "execution_count": 8,
   "metadata": {},
   "outputs": [
    {
     "data": {
      "text/html": [
       "<div>\n",
       "<style scoped>\n",
       "    .dataframe tbody tr th:only-of-type {\n",
       "        vertical-align: middle;\n",
       "    }\n",
       "\n",
       "    .dataframe tbody tr th {\n",
       "        vertical-align: top;\n",
       "    }\n",
       "\n",
       "    .dataframe thead th {\n",
       "        text-align: right;\n",
       "    }\n",
       "</style>\n",
       "<table border=\"1\" class=\"dataframe\">\n",
       "  <thead>\n",
       "    <tr style=\"text-align: right;\">\n",
       "      <th></th>\n",
       "      <th>NQUEST</th>\n",
       "      <th>ANNO</th>\n",
       "      <th>Y</th>\n",
       "      <th>Y1</th>\n",
       "      <th>IREG</th>\n",
       "      <th>PESO</th>\n",
       "    </tr>\n",
       "  </thead>\n",
       "  <tbody>\n",
       "    <tr>\n",
       "      <th>68063</th>\n",
       "      <td>25</td>\n",
       "      <td>1995</td>\n",
       "      <td>47520.954342</td>\n",
       "      <td>46687.703678</td>\n",
       "      <td>PUGLIA</td>\n",
       "      <td>1.971756</td>\n",
       "    </tr>\n",
       "    <tr>\n",
       "      <th>68064</th>\n",
       "      <td>34</td>\n",
       "      <td>1995</td>\n",
       "      <td>61897.359356</td>\n",
       "      <td>65228.506355</td>\n",
       "      <td>EMILIA_ROMAGNA</td>\n",
       "      <td>0.459048</td>\n",
       "    </tr>\n",
       "    <tr>\n",
       "      <th>68065</th>\n",
       "      <td>38</td>\n",
       "      <td>1995</td>\n",
       "      <td>9114.715045</td>\n",
       "      <td>8764.273578</td>\n",
       "      <td>EMILIA_ROMAGNA</td>\n",
       "      <td>0.543176</td>\n",
       "    </tr>\n",
       "    <tr>\n",
       "      <th>68066</th>\n",
       "      <td>123</td>\n",
       "      <td>1995</td>\n",
       "      <td>33547.779747</td>\n",
       "      <td>39261.053469</td>\n",
       "      <td>CALABRIA</td>\n",
       "      <td>0.440612</td>\n",
       "    </tr>\n",
       "    <tr>\n",
       "      <th>68067</th>\n",
       "      <td>126</td>\n",
       "      <td>1995</td>\n",
       "      <td>12291.674198</td>\n",
       "      <td>12291.674198</td>\n",
       "      <td>CALABRIA</td>\n",
       "      <td>0.383064</td>\n",
       "    </tr>\n",
       "  </tbody>\n",
       "</table>\n",
       "</div>"
      ],
      "text/plain": [
       "       NQUEST  ANNO             Y            Y1            IREG      PESO\n",
       "68063      25  1995  47520.954342  46687.703678          PUGLIA  1.971756\n",
       "68064      34  1995  61897.359356  65228.506355  EMILIA_ROMAGNA  0.459048\n",
       "68065      38  1995   9114.715045   8764.273578  EMILIA_ROMAGNA  0.543176\n",
       "68066     123  1995  33547.779747  39261.053469        CALABRIA  0.440612\n",
       "68067     126  1995  12291.674198  12291.674198        CALABRIA  0.383064"
      ]
     },
     "execution_count": 8,
     "metadata": {},
     "output_type": "execute_result"
    }
   ],
   "source": [
    "# Importo i pesi e li concateno con i dati.\n",
    "pesi = pd.read_csv('storico_ascii/peso.csv')\n",
    "pesi = pesi[pesi.ANNO.isin(years)]\n",
    "full = pd.concat([dfp, pesi['PESO']], axis=1)\n",
    "full.head()"
   ]
  },
  {
   "cell_type": "markdown",
   "metadata": {},
   "source": [
    "<hr>"
   ]
  },
  {
   "cell_type": "code",
   "execution_count": 9,
   "metadata": {},
   "outputs": [
    {
     "data": {
      "text/html": [
       "<div>\n",
       "<style scoped>\n",
       "    .dataframe tbody tr th:only-of-type {\n",
       "        vertical-align: middle;\n",
       "    }\n",
       "\n",
       "    .dataframe tbody tr th {\n",
       "        vertical-align: top;\n",
       "    }\n",
       "\n",
       "    .dataframe thead th {\n",
       "        text-align: right;\n",
       "    }\n",
       "</style>\n",
       "<table border=\"1\" class=\"dataframe\">\n",
       "  <thead>\n",
       "    <tr style=\"text-align: right;\">\n",
       "      <th></th>\n",
       "      <th>DEFL</th>\n",
       "      <th>RIVAL</th>\n",
       "    </tr>\n",
       "    <tr>\n",
       "      <th>Anno</th>\n",
       "      <th></th>\n",
       "      <th></th>\n",
       "    </tr>\n",
       "  </thead>\n",
       "  <tbody>\n",
       "    <tr>\n",
       "      <th>1995</th>\n",
       "      <td>0.705283</td>\n",
       "      <td>1.522789</td>\n",
       "    </tr>\n",
       "    <tr>\n",
       "      <th>1998</th>\n",
       "      <td>0.764268</td>\n",
       "      <td>1.405264</td>\n",
       "    </tr>\n",
       "    <tr>\n",
       "      <th>2000</th>\n",
       "      <td>0.804857</td>\n",
       "      <td>1.334396</td>\n",
       "    </tr>\n",
       "    <tr>\n",
       "      <th>2002</th>\n",
       "      <td>0.849998</td>\n",
       "      <td>1.263530</td>\n",
       "    </tr>\n",
       "    <tr>\n",
       "      <th>2004</th>\n",
       "      <td>0.895594</td>\n",
       "      <td>1.199202</td>\n",
       "    </tr>\n",
       "    <tr>\n",
       "      <th>2006</th>\n",
       "      <td>0.938408</td>\n",
       "      <td>1.144490</td>\n",
       "    </tr>\n",
       "    <tr>\n",
       "      <th>2008</th>\n",
       "      <td>0.989559</td>\n",
       "      <td>1.085329</td>\n",
       "    </tr>\n",
       "    <tr>\n",
       "      <th>2010</th>\n",
       "      <td>1.000000</td>\n",
       "      <td>1.073998</td>\n",
       "    </tr>\n",
       "    <tr>\n",
       "      <th>2012</th>\n",
       "      <td>1.056974</td>\n",
       "      <td>1.016106</td>\n",
       "    </tr>\n",
       "    <tr>\n",
       "      <th>2014</th>\n",
       "      <td>1.072382</td>\n",
       "      <td>1.001507</td>\n",
       "    </tr>\n",
       "    <tr>\n",
       "      <th>2016</th>\n",
       "      <td>1.073998</td>\n",
       "      <td>1.000000</td>\n",
       "    </tr>\n",
       "  </tbody>\n",
       "</table>\n",
       "</div>"
      ],
      "text/plain": [
       "          DEFL     RIVAL\n",
       "Anno                    \n",
       "1995  0.705283  1.522789\n",
       "1998  0.764268  1.405264\n",
       "2000  0.804857  1.334396\n",
       "2002  0.849998  1.263530\n",
       "2004  0.895594  1.199202\n",
       "2006  0.938408  1.144490\n",
       "2008  0.989559  1.085329\n",
       "2010  1.000000  1.073998\n",
       "2012  1.056974  1.016106\n",
       "2014  1.072382  1.001507\n",
       "2016  1.073998  1.000000"
      ]
     },
     "execution_count": 9,
     "metadata": {},
     "output_type": "execute_result"
    }
   ],
   "source": [
    "# Importo i deflatori e li filtro sulla base degli anni che mi interessano.\n",
    "defl = pd.read_csv('storico_ascii/defl.csv')\n",
    "defl = defl[defl['Anno'].isin(years)].reset_index(drop = True)\n",
    "defl = defl.set_index('Anno')\n",
    "defl"
   ]
  },
  {
   "cell_type": "code",
   "execution_count": 10,
   "metadata": {},
   "outputs": [],
   "source": [
    "def media_pesata_Y(df, anno):\n",
    "    sum = 0\n",
    "    wsum = 0\n",
    "    data = df[df.ANNO == anno]\n",
    "    for x in data.itertuples():\n",
    "        d = defl.loc[anno].DEFL\n",
    "        r = defl.loc[2010].RIVAL\n",
    "        sum += ((x.Y / d) * r) * x.PESO\n",
    "        wsum += x.PESO\n",
    "    return sum / wsum"
   ]
  },
  {
   "cell_type": "code",
   "execution_count": 11,
   "metadata": {},
   "outputs": [],
   "source": [
    "def reddito_medio_per_anno():\n",
    "    result = []\n",
    "    for y in years: result.append([y, media_pesata_Y(full, y)])\n",
    "    return result"
   ]
  },
  {
   "cell_type": "code",
   "execution_count": 12,
   "metadata": {},
   "outputs": [
    {
     "data": {
      "text/plain": [
       "[[1995, 33588.446842534184],\n",
       " [1998, 34932.10913236495],\n",
       " [2000, 34779.53989080791],\n",
       " [2002, 34755.70691545497],\n",
       " [2004, 35297.406040385555],\n",
       " [2006, 36187.20301953595],\n",
       " [2008, 34709.797409757215],\n",
       " [2010, 34914.73754487342],\n",
       " [2012, 30632.548588153775],\n",
       " [2014, 30597.84553671879],\n",
       " [2016, 30714.70580245284]]"
      ]
     },
     "execution_count": 12,
     "metadata": {},
     "output_type": "execute_result"
    }
   ],
   "source": [
    "redditi_medi = reddito_medio_per_anno()\n",
    "redditi_medi"
   ]
  },
  {
   "cell_type": "raw",
   "metadata": {},
   "source": [
    "def reddito_medio_per_anno():\n",
    "    nyears = len(years)\n",
    "    tuples = []\n",
    "    sums = [0] * nyears\n",
    "    wsums = [0] * nyears\n",
    "    for i, x in full.iterrows():\n",
    "        d = defl.loc[x.ANNO].DEFL\n",
    "        r = defl.loc[x.ANNO].RIVAL\n",
    "        k = years.index(x.ANNO)\n",
    "        sums[k] += x.Y * r * x.PESO\n",
    "        wsums[k] += x.PESO\n",
    "    for i in range(0, len(years)):\n",
    "        reddito = sums[i] / wsums[i]\n",
    "        tuples.append([years[i], reddito])\n",
    "    df = pd.DataFrame(sorted(tuples))\n",
    "    return df"
   ]
  },
  {
   "cell_type": "code",
   "execution_count": 13,
   "metadata": {},
   "outputs": [
    {
     "data": {
      "text/plain": [
       "[[1995, 33588.446842534184],\n",
       " [1996, None],\n",
       " [1997, None],\n",
       " [1998, 34932.10913236495],\n",
       " [1999, None],\n",
       " [2000, 34779.53989080791],\n",
       " [2001, None],\n",
       " [2002, 34755.70691545497],\n",
       " [2003, None],\n",
       " [2004, 35297.406040385555],\n",
       " [2005, None],\n",
       " [2006, 36187.20301953595],\n",
       " [2007, None],\n",
       " [2008, 34709.797409757215],\n",
       " [2009, None],\n",
       " [2010, 34914.73754487342],\n",
       " [2011, None],\n",
       " [2012, 30632.548588153775],\n",
       " [2013, None],\n",
       " [2014, 30597.84553671879],\n",
       " [2015, None],\n",
       " [2016, 30714.70580245284],\n",
       " [2017, None]]"
      ]
     },
     "execution_count": 13,
     "metadata": {},
     "output_type": "execute_result"
    }
   ],
   "source": [
    "# Aggiungo gli anni mancanti.\n",
    "missing_years = [1996, 1997, 1999, 2001, 2003, 2005, 2007, 2009, 2011, 2013, 2015, 2017]\n",
    "for y in missing_years: redditi_medi.append([y, None])\n",
    "redditi_medi = sorted(redditi_medi)\n",
    "redditi_medi"
   ]
  },
  {
   "cell_type": "code",
   "execution_count": 14,
   "metadata": {},
   "outputs": [
    {
     "data": {
      "text/plain": [
       "[<matplotlib.lines.Line2D at 0x11724fb50>]"
      ]
     },
     "execution_count": 14,
     "metadata": {},
     "output_type": "execute_result"
    },
    {
     "data": {
      "image/png": "[encoded data removed]",
      "text/plain": [
       "<Figure size 432x288 with 1 Axes>"
      ]
     },
     "metadata": {
      "needs_background": "light"
     },
     "output_type": "display_data"
    }
   ],
   "source": [
    "t = pd.DataFrame(redditi_medi)\n",
    "t[1] = t[1].interpolate(method='linear', limit_direction='forward')\n",
    "plt.plot(t[0], t[1])"
   ]
  },
  {
   "cell_type": "code",
   "execution_count": 15,
   "metadata": {},
   "outputs": [
    {
     "data": {
      "text/html": [
       "<div>\n",
       "<style scoped>\n",
       "    .dataframe tbody tr th:only-of-type {\n",
       "        vertical-align: middle;\n",
       "    }\n",
       "\n",
       "    .dataframe tbody tr th {\n",
       "        vertical-align: top;\n",
       "    }\n",
       "\n",
       "    .dataframe thead th {\n",
       "        text-align: right;\n",
       "    }\n",
       "</style>\n",
       "<table border=\"1\" class=\"dataframe\">\n",
       "  <thead>\n",
       "    <tr style=\"text-align: right;\">\n",
       "      <th></th>\n",
       "      <th>Anno</th>\n",
       "      <th>Reddito</th>\n",
       "    </tr>\n",
       "  </thead>\n",
       "  <tbody>\n",
       "    <tr>\n",
       "      <th>0</th>\n",
       "      <td>1995</td>\n",
       "      <td>2799.037237</td>\n",
       "    </tr>\n",
       "    <tr>\n",
       "      <th>1</th>\n",
       "      <td>1996</td>\n",
       "      <td>2836.361189</td>\n",
       "    </tr>\n",
       "    <tr>\n",
       "      <th>2</th>\n",
       "      <td>1997</td>\n",
       "      <td>2873.685142</td>\n",
       "    </tr>\n",
       "    <tr>\n",
       "      <th>3</th>\n",
       "      <td>1998</td>\n",
       "      <td>2911.009094</td>\n",
       "    </tr>\n",
       "    <tr>\n",
       "      <th>4</th>\n",
       "      <td>1999</td>\n",
       "      <td>2904.652043</td>\n",
       "    </tr>\n",
       "    <tr>\n",
       "      <th>5</th>\n",
       "      <td>2000</td>\n",
       "      <td>2898.294991</td>\n",
       "    </tr>\n",
       "    <tr>\n",
       "      <th>6</th>\n",
       "      <td>2001</td>\n",
       "      <td>2897.301950</td>\n",
       "    </tr>\n",
       "    <tr>\n",
       "      <th>7</th>\n",
       "      <td>2002</td>\n",
       "      <td>2896.308910</td>\n",
       "    </tr>\n",
       "    <tr>\n",
       "      <th>8</th>\n",
       "      <td>2003</td>\n",
       "      <td>2918.879706</td>\n",
       "    </tr>\n",
       "    <tr>\n",
       "      <th>9</th>\n",
       "      <td>2004</td>\n",
       "      <td>2941.450503</td>\n",
       "    </tr>\n",
       "    <tr>\n",
       "      <th>10</th>\n",
       "      <td>2005</td>\n",
       "      <td>2978.525377</td>\n",
       "    </tr>\n",
       "    <tr>\n",
       "      <th>11</th>\n",
       "      <td>2006</td>\n",
       "      <td>3015.600252</td>\n",
       "    </tr>\n",
       "    <tr>\n",
       "      <th>12</th>\n",
       "      <td>2007</td>\n",
       "      <td>2954.041685</td>\n",
       "    </tr>\n",
       "    <tr>\n",
       "      <th>13</th>\n",
       "      <td>2008</td>\n",
       "      <td>2892.483117</td>\n",
       "    </tr>\n",
       "    <tr>\n",
       "      <th>14</th>\n",
       "      <td>2009</td>\n",
       "      <td>2901.022290</td>\n",
       "    </tr>\n",
       "    <tr>\n",
       "      <th>15</th>\n",
       "      <td>2010</td>\n",
       "      <td>2909.561462</td>\n",
       "    </tr>\n",
       "    <tr>\n",
       "      <th>16</th>\n",
       "      <td>2011</td>\n",
       "      <td>2731.136922</td>\n",
       "    </tr>\n",
       "    <tr>\n",
       "      <th>17</th>\n",
       "      <td>2012</td>\n",
       "      <td>2552.712382</td>\n",
       "    </tr>\n",
       "    <tr>\n",
       "      <th>18</th>\n",
       "      <td>2013</td>\n",
       "      <td>2551.266422</td>\n",
       "    </tr>\n",
       "    <tr>\n",
       "      <th>19</th>\n",
       "      <td>2014</td>\n",
       "      <td>2549.820461</td>\n",
       "    </tr>\n",
       "    <tr>\n",
       "      <th>20</th>\n",
       "      <td>2015</td>\n",
       "      <td>2554.689639</td>\n",
       "    </tr>\n",
       "    <tr>\n",
       "      <th>21</th>\n",
       "      <td>2016</td>\n",
       "      <td>2559.558817</td>\n",
       "    </tr>\n",
       "    <tr>\n",
       "      <th>22</th>\n",
       "      <td>2017</td>\n",
       "      <td>2559.558817</td>\n",
       "    </tr>\n",
       "  </tbody>\n",
       "</table>\n",
       "</div>"
      ],
      "text/plain": [
       "    Anno      Reddito\n",
       "0   1995  2799.037237\n",
       "1   1996  2836.361189\n",
       "2   1997  2873.685142\n",
       "3   1998  2911.009094\n",
       "4   1999  2904.652043\n",
       "5   2000  2898.294991\n",
       "6   2001  2897.301950\n",
       "7   2002  2896.308910\n",
       "8   2003  2918.879706\n",
       "9   2004  2941.450503\n",
       "10  2005  2978.525377\n",
       "11  2006  3015.600252\n",
       "12  2007  2954.041685\n",
       "13  2008  2892.483117\n",
       "14  2009  2901.022290\n",
       "15  2010  2909.561462\n",
       "16  2011  2731.136922\n",
       "17  2012  2552.712382\n",
       "18  2013  2551.266422\n",
       "19  2014  2549.820461\n",
       "20  2015  2554.689639\n",
       "21  2016  2559.558817\n",
       "22  2017  2559.558817"
      ]
     },
     "execution_count": 15,
     "metadata": {},
     "output_type": "execute_result"
    }
   ],
   "source": [
    "t.columns = ['Anno', 'Reddito']\n",
    "t['Reddito'] /= 12\n",
    "#t.to_csv('ITALIA/reddito_medio.csv', index=False, float_format='%.2f')\n",
    "t"
   ]
  },
  {
   "cell_type": "markdown",
   "metadata": {},
   "source": [
    "---"
   ]
  },
  {
   "cell_type": "code",
   "execution_count": 46,
   "metadata": {},
   "outputs": [
    {
     "name": "stdout",
     "output_type": "stream",
     "text": [
      "PIEMONTE\n",
      "VALLE_AOSTA\n",
      "LOMBARDIA\n",
      "TRENTINO\n",
      "VENETO\n",
      "FRIULI\n",
      "LIGURIA\n",
      "EMILIA_ROMAGNA\n",
      "TOSCANA\n",
      "UMBRIA\n",
      "MARCHE\n",
      "LAZIO\n",
      "ABRUZZO\n",
      "MOLISE\n",
      "CAMPANIA\n",
      "PUGLIA\n",
      "BASILICATA\n",
      "CALABRIA\n",
      "SICILIA\n",
      "SARDEGNA\n"
     ]
    }
   ],
   "source": [
    "# Itero sui nomi delle regioni così...\n",
    "for x in iregmap.itervalues(): print x"
   ]
  },
  {
   "cell_type": "code",
   "execution_count": 55,
   "metadata": {},
   "outputs": [
    {
     "name": "stdout",
     "output_type": "stream",
     "text": [
      "PIEMONTE\n"
     ]
    },
    {
     "name": "stderr",
     "output_type": "stream",
     "text": [
      "/Users/matteo/miniconda2/lib/python2.7/site-packages/ipykernel_launcher.py:6: UserWarning: Boolean Series key will be reindexed to match DataFrame index.\n",
      "  \n"
     ]
    },
    {
     "name": "stdout",
     "output_type": "stream",
     "text": [
      "VALLE_AOSTA\n",
      "LOMBARDIA\n",
      "TRENTINO\n",
      "VENETO\n",
      "FRIULI\n",
      "LIGURIA\n",
      "EMILIA_ROMAGNA\n",
      "TOSCANA\n",
      "UMBRIA\n",
      "MARCHE\n",
      "LAZIO\n",
      "ABRUZZO\n",
      "MOLISE\n",
      "CAMPANIA\n",
      "PUGLIA\n",
      "BASILICATA\n",
      "CALABRIA\n",
      "SICILIA\n",
      "SARDEGNA\n"
     ]
    }
   ],
   "source": [
    "# Fix region and year.\n",
    "for regione in iregmap.itervalues():\n",
    "    print regione\n",
    "    result = []\n",
    "    for anno in years:\n",
    "        data = full[full.IREG == regione][full.ANNO == anno]\n",
    "        rsum = 0\n",
    "        wsum = 0\n",
    "        for x in data.itertuples():\n",
    "            d = defl.loc[anno].DEFL\n",
    "            r = defl.loc[2010].RIVAL\n",
    "            rsum += ((x.Y / d) * r) * x.PESO\n",
    "            wsum += x.PESO\n",
    "        if (wsum == 0): value = None\n",
    "        else: value = rsum / wsum\n",
    "        result.append([anno, value])\n",
    "    # Build the df and interpolate the values.\n",
    "    missing_years = [1996, 1997, 1999, 2001, 2003, 2005, 2007, 2009, 2011, 2013, 2015, 2017]\n",
    "    for y in missing_years: result.append([y, None])\n",
    "    result = sorted(result)\n",
    "    z = pd.DataFrame(result)\n",
    "    z.columns = ['Anno', 'Reddito']\n",
    "    z['Reddito'] = z['Reddito'].interpolate(method='linear', limit_direction='forward')\n",
    "    # Scala tutto per 12\n",
    "    z['Reddito'] /= 12\n",
    "    z.to_csv('./REDDITO_PER_REGIONE/'+ regione + '.csv', index=False)"
   ]
  },
  {
   "cell_type": "code",
   "execution_count": null,
   "metadata": {},
   "outputs": [],
   "source": []
  },
  {
   "cell_type": "code",
   "execution_count": null,
   "metadata": {},
   "outputs": [],
   "source": []
  },
  {
   "cell_type": "code",
   "execution_count": null,
   "metadata": {},
   "outputs": [],
   "source": []
  },
  {
   "cell_type": "code",
   "execution_count": null,
   "metadata": {},
   "outputs": [],
   "source": []
  },
  {
   "cell_type": "code",
   "execution_count": null,
   "metadata": {},
   "outputs": [],
   "source": []
  },
  {
   "cell_type": "code",
   "execution_count": null,
   "metadata": {},
   "outputs": [],
   "source": []
  },
  {
   "cell_type": "code",
   "execution_count": null,
   "metadata": {},
   "outputs": [],
   "source": []
  },
  {
   "cell_type": "code",
   "execution_count": null,
   "metadata": {},
   "outputs": [],
   "source": []
  }
 ],
 "metadata": {
  "kernelspec": {
   "display_name": "Python 2",
   "language": "python",
   "name": "python2"
  },
  "language_info": {
   "codemirror_mode": {
    "name": "ipython",
    "version": 2
   },
   "file_extension": ".py",
   "mimetype": "text/x-python",
   "name": "python",
   "nbconvert_exporter": "python",
   "pygments_lexer": "ipython2",
   "version": "2.7.15"
  }
 },
 "nbformat": 4,
 "nbformat_minor": 2
}
