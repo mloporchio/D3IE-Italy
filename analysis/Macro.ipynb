{
 "cells": [
  {
   "cell_type": "code",
   "execution_count": 1,
   "metadata": {},
   "outputs": [],
   "source": [
    "import pandas as pd\n",
    "import numpy as np\n",
    "import matplotlib.pyplot as plt\n",
    "from os import listdir\n",
    "from os.path import isfile, join, splitext"
   ]
  },
  {
   "cell_type": "code",
   "execution_count": 15,
   "metadata": {},
   "outputs": [],
   "source": [
    "voci = ['Spesa_1', 'Spesa_2', 'Spesa_3', 'Spesa_4', 'Spesa_5',\n",
    "        'Spesa_6', 'Spesa_7', 'Spesa_8', 'Spesa_9', 'Spesa_10',\n",
    "        'Spesa_11', 'Spesa_12', 'Spesa_TOT']\n",
    "spesa_col = pd.Series(voci)\n",
    "iregmap = {\n",
    "    1 : \"PIEMONTE\", 2 : \"VALLE_AOSTA\", 3 : \"LOMBARDIA\", 4 : \"TRENTINO\", 5 : \"VENETO\",\n",
    "    6 : \"FRIULI\", 7 : \"LIGURIA\", 8 : \"EMILIA_ROMAGNA\", 9 : \"TOSCANA\", 10 : \"UMBRIA\",\n",
    "    11 : \"MARCHE\", 12 : \"LAZIO\", 13 : \"ABRUZZO\", 14 : \"MOLISE\", 15 : \"CAMPANIA\", 16 : \"PUGLIA\",\n",
    "    17 : \"BASILICATA\", 18 : \"CALABRIA\", 19 : \"SICILIA\", 20 : \"SARDEGNA\"\n",
    "}\n",
    "macroreg = {\n",
    "    'Nord-Ovest' : [1, 2, 3, 7],\n",
    "    'Nord-Est' : [4, 5, 6, 8],\n",
    "    'Centro' : [9, 10, 11, 12],\n",
    "    'Sud' : [13, 14, 15, 16, 17, 18],\n",
    "    'Isole' : [19, 20]\n",
    "}\n",
    "years = list(xrange(1997, 2017 + 1))"
   ]
  },
  {
   "cell_type": "code",
   "execution_count": null,
   "metadata": {},
   "outputs": [],
   "source": []
  },
  {
   "cell_type": "code",
   "execution_count": 19,
   "metadata": {},
   "outputs": [],
   "source": [
    "for macro in macroreg.iteritems():\n",
    "    n_reg = len(macro[1]) # Numero di regioni nella macroregione\n",
    "    result = None\n",
    "    first = True\n",
    "    for region in macro[1]:\n",
    "        if (first):\n",
    "            result = pd.read_csv('./REGIONE/' + iregmap[region] + '.csv')\n",
    "            first = False\n",
    "        else:\n",
    "            x = pd.read_csv('./REGIONE/' + iregmap[region] + '.csv')\n",
    "            result += x\n",
    "    result /= n_reg\n",
    "    result['Anno'] = pd.Series(years)\n",
    "    # Salva il file sul disco.\n",
    "    result.to_csv('./REDDITO_PER_MACROREGIONE/'+ macro[0] + '.csv', header=True, index=False, float_format='%.2f')"
   ]
  },
  {
   "cell_type": "code",
   "execution_count": 25,
   "metadata": {},
   "outputs": [],
   "source": [
    "sorted_macroregions = sorted([x for x in macroreg.iterkeys()])\n",
    "for y in years:\n",
    "    result = pd.DataFrame()\n",
    "    for macro in sorted_macroregions:\n",
    "        df = pd.read_csv('./REDDITO_PER_MACROREGIONE/' + macro + '.csv')\n",
    "        df = df.set_index('Anno')\n",
    "        result[macro] = df.loc[y]\n",
    "    result.to_csv('./REDDITO_PER_MACROANNO/' + str(y) + '.csv')\n",
    "        "
   ]
  },
  {
   "cell_type": "code",
   "execution_count": null,
   "metadata": {},
   "outputs": [],
   "source": []
  }
 ],
 "metadata": {
  "kernelspec": {
   "display_name": "Python 2",
   "language": "python",
   "name": "python2"
  },
  "language_info": {
   "codemirror_mode": {
    "name": "ipython",
    "version": 2
   },
   "file_extension": ".py",
   "mimetype": "text/x-python",
   "name": "python",
   "nbconvert_exporter": "python",
   "pygments_lexer": "ipython2",
   "version": "2.7.15"
  }
 },
 "nbformat": 4,
 "nbformat_minor": 2
}
